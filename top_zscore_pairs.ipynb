{
  "nbformat": 4,
  "nbformat_minor": 0,
  "metadata": {
    "colab": {
      "name": "top_zscore_pairs.ipynb",
      "version": "0.3.2",
      "provenance": []
    },
    "kernelspec": {
      "name": "python3",
      "display_name": "Python 3"
    }
  },
  "cells": [
    {
      "metadata": {
        "id": "qrNYJJS6tx_V",
        "colab_type": "code",
        "colab": {
          "base_uri": "https://localhost:8080/",
          "height": 34
        },
        "outputId": "7e7b960e-fc41-4a6f-fdb1-949432169f13"
      },
      "cell_type": "code",
      "source": [
        "import numpy as np\n",
        "import pandas as pd\n",
        "np.random.seed(2019)\n",
        "pd.DataFrame(np.random.randn(1000,100)).to_csv(\"data.csv\")\n",
        "\n",
        "data = pd.read_csv('data.csv')\n",
        "\n",
        "data = np.array(data);\n",
        "\n",
        "n = data.shape[0];\n",
        "m = data.shape[1];\n",
        "\n",
        "stock_data = np.array(data[:,1:m]);\n",
        "stock_number = stock_data.shape[1];\n",
        "stock1 = stock_data[:,0];\n",
        "cri1 = np.zeros((n));\n",
        "z_score1 = np.zeros((stock_number,stock_number));\n",
        "\n",
        "cri2 = np.zeros((n));\n",
        "z_score2 = np.zeros((stock_number,stock_number));\n",
        "\n",
        "for i in range(stock_number):\n",
        "  for j in range(i+1,stock_number):\n",
        "    stock1 = stock_data[:,i];\n",
        "    stock2 = stock_data[:,j];\n",
        "    pair_return1 = stock1-stock2;\n",
        "    pair_return1 = pair_return1+1;\n",
        "    cri1[0] = pair_return1[0];\n",
        "    for k in range(1,len(pair_return1)):\n",
        "      cri1[k] = cri1[k-1]*pair_return1[k];\n",
        "    z_score1[i,j] = (cri1[-1]-np.mean(cri1))/np.std(cri1);\n",
        "    \n",
        "    pair_return2 = stock2-stock1;\n",
        "    pair_return2 = pair_return2+1;\n",
        "    cri2[0] = pair_return2[0];\n",
        "    for k in range(1,len(pair_return2)):\n",
        "      cri2[k] = cri2[k-1]*pair_return2[k];\n",
        "    z_score2[i,j] = (cri2[-1]-np.mean(cri2))/np.std(cri2);\n",
        "\n",
        "top_pairs = [];\n",
        "for i in range(3):\n",
        "  [max_x1,max_y1] = np.where(z_score1==np.max(z_score1));\n",
        "  max_pair1 = [max_x1,max_y1];\n",
        "  [max_x2,max_y2] = np.where(z_score2==np.max(z_score2));\n",
        "  max_pair2 = [max_y2,max_x2];\n",
        "  if z_score1[max_x1,max_y1]>z_score2[max_x2,max_y2]:\n",
        "    z_score1[max_x1,max_y1] = 0;\n",
        "    top_pairs.append(max_pair1);\n",
        "  else:\n",
        "    z_score2[max_x2,max_y2] = 0;\n",
        "    top_pairs.append(max_pair2);\n",
        "  \n",
        "print(top_pairs)\n",
        "\n"
      ],
      "execution_count": 3,
      "outputs": [
        {
          "output_type": "stream",
          "text": [
            "[[array([14]), array([74])], [array([62]), array([3])], [array([15]), array([69])]]\n"
          ],
          "name": "stdout"
        }
      ]
    }
  ]
}